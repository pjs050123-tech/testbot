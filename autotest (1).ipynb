{
  "nbformat": 4,
  "nbformat_minor": 0,
  "metadata": {
    "colab": {
      "provenance": []
    },
    "kernelspec": {
      "name": "python3",
      "display_name": "Python 3"
    },
    "language_info": {
      "name": "python"
    }
  },
  "cells": [
    {
      "cell_type": "code",
      "source": [
        "\n",
        "\n",
        "import os\n",
        "import requests\n",
        "\n",
        "BOT_TOKEN = os.getenv(\"TG_BOT_TOKEN\")   # 깃허브 Secrets에서 불러옴\n",
        "CHAT_ID   = os.getenv(\"TG_CHAT_ID\")     # 깃허브 Secrets에서 불러옴\n",
        "\n",
        "\n",
        "msg = \"텔레그램 연결 테스트 🚀\"\n",
        "url = f\"https://api.telegram.org/bot{BOT_TOKEN}/sendMessage\"\n",
        "res = requests.get(url, params={\"chat_id\": CHAT_ID, \"text\": msg})\n",
        "\n",
        "print(res.status_code, res.text)"
      ],
      "metadata": {
        "colab": {
          "base_uri": "https://localhost:8080/"
        },
        "id": "cxAd7fCPdt8C",
        "outputId": "51d94982-beca-45f5-ab36-565e5363736b"
      },
      "execution_count": 3,
      "outputs": [
        {
          "output_type": "stream",
          "name": "stdout",
          "text": [
            "200 {\"ok\":true,\"result\":{\"message_id\":2,\"from\":{\"id\":7242833303,\"is_bot\":true,\"first_name\":\"Botforjs\",\"username\":\"JSquantbot\"},\"chat\":{\"id\":8196864798,\"first_name\":\"\\uc9c0\\uc218\",\"last_name\":\"\\ubc15\",\"type\":\"private\"},\"date\":1759201790,\"text\":\"\\ud154\\ub808\\uadf8\\ub7a8 \\uc5f0\\uacb0 \\ud14c\\uc2a4\\ud2b8 \\ud83d\\ude80\"}}\n"
          ]
        }
      ]
    },
    {
      "cell_type": "code",
      "execution_count": 13,
      "metadata": {
        "colab": {
          "base_uri": "https://localhost:8080/"
        },
        "id": "xL4NH4I8dZlJ",
        "outputId": "5441ea33-db4b-4cb4-96c2-4f7db3060d9f"
      },
      "outputs": [
        {
          "output_type": "stream",
          "name": "stderr",
          "text": [
            "[*********************100%***********************]  1 of 1 completed\n",
            "[*********************100%***********************]  1 of 1 completed\n",
            "[*********************100%***********************]  1 of 1 completed\n",
            "[*********************100%***********************]  1 of 1 completed\n",
            "[*********************100%***********************]  1 of 1 completed\n",
            "[*********************100%***********************]  1 of 1 completed\n",
            "[*********************100%***********************]  1 of 1 completed\n",
            "[*********************100%***********************]  1 of 1 completed\n",
            "[*********************100%***********************]  1 of 1 completed\n",
            "[*********************100%***********************]  1 of 1 completed\n",
            "[*********************100%***********************]  1 of 1 completed\n"
          ]
        },
        {
          "output_type": "stream",
          "name": "stdout",
          "text": [
            "[2025-09-30] 시그널 종목: MSFT, NVDA, TSLA, XOM\n",
            "Telegram status: 200\n"
          ]
        }
      ],
      "source": [
        "# 11종목 한정 MACD+OBV 시그널 → 텔레그램 알림 (에러패치 포함)\n",
        "# 필요: pip install yfinance pandas numpy requests\n",
        "\n",
        "import os, time, datetime as dt\n",
        "import numpy as np\n",
        "import pandas as pd\n",
        "import yfinance as yf\n",
        "import requests\n",
        "\n",
        "# ====== 설정 ======\n",
        "TICKERS = [\"AAPL\",\"MSFT\",\"NVDA\",\"AMZN\",\"GOOGL\",\"META\",\"BRK-B\",\"AVGO\",\"TSLA\",\"XOM\",\"PLTR\"]\n",
        "\n",
        "BOT_TOKEN = \"7242833303:AAGMw_2WmhVbPcjScXvrDfkZpzT02F7NbT4\"   # BotFather 토큰\n",
        "CHAT_ID   = 8196864798     # 개인(양수) 또는 그룹(-100...) chat_id\n",
        "\n",
        "MACD_SHORT, MACD_LONG, MACD_SIGNAL = 12, 26, 9\n",
        "OBV_SMA_N = 5\n",
        "USE_PRICE_ABOVE_SMA50 = True\n",
        "PERIOD = \"8mo\"\n",
        "\n",
        "# ====== 텔레그램 알림 ======\n",
        "def notify(text: str):\n",
        "    if not (BOT_TOKEN and CHAT_ID):\n",
        "        print(\"[SKIP] Telegram not configured.\"); return\n",
        "    url = f\"https://api.telegram.org/bot{BOT_TOKEN}/sendMessage\"\n",
        "    res = requests.get(url, params={\"chat_id\": CHAT_ID, \"text\": text})\n",
        "    print(\"Telegram status:\", res.status_code)\n",
        "\n",
        "# ====== 지표 계산 ======\n",
        "def compute_indicators(df: pd.DataFrame) -> pd.DataFrame:\n",
        "    if df.empty or len(df) < 50:\n",
        "        return pd.DataFrame(index=df.index)\n",
        "\n",
        "    # ★ 핵심 패치: 반드시 1차원 Series로 변환\n",
        "    close = df[\"Close\"].squeeze().astype(float)\n",
        "    vol   = df[\"Volume\"].squeeze().astype(float)\n",
        "\n",
        "    ema12 = close.ewm(span=MACD_SHORT, adjust=False).mean()\n",
        "    ema26 = close.ewm(span=MACD_LONG , adjust=False).mean()\n",
        "    macd  = ema12 - ema26\n",
        "    sig   = macd.ewm(span=MACD_SIGNAL, adjust=False).mean()\n",
        "    hist  = macd - sig\n",
        "\n",
        "    delta = close.diff()\n",
        "    sign  = np.where(delta > 0, 1, np.where(delta < 0, -1, 0))\n",
        "    obv   = (sign * vol.fillna(0)).cumsum()\n",
        "    obv_sma = obv.rolling(OBV_SMA_N, min_periods=OBV_SMA_N).mean()\n",
        "\n",
        "    sma50 = close.rolling(50, min_periods=50).mean()\n",
        "\n",
        "    out = pd.DataFrame({\n",
        "        \"Close\": close,\n",
        "        \"MACD_HIST\": hist,\n",
        "        \"OBV\": obv,\n",
        "        \"OBV_SMA\": obv_sma,\n",
        "        \"SMA50\": sma50\n",
        "    }, index=df.index)\n",
        "    return out.dropna()\n",
        "\n",
        "def is_signal(today, yesterday) -> bool:\n",
        "    EPS = 1e-3          # 아주 작은 허용오차(선택적으로 완화)\n",
        "\n",
        "    # MACD: 교차(어제≤0 & 오늘>0) OR 오늘>0 만으로도 통과\n",
        "    macd_ok = (today[\"MACD_HIST\"] > 0) or (\n",
        "        (yesterday[\"MACD_HIST\"] <= 0) and (today[\"MACD_HIST\"] > 0)\n",
        "    )\n",
        "\n",
        "    # OBV: '>'를 '>='로 완화 + 0.5% 여유 허용\n",
        "    obv_ok = today[\"OBV\"] >= today[\"OBV_SMA\"] * 0.995\n",
        "\n",
        "    # 가격: SMA50 위 조건을 0.5% 여유로 완화\n",
        "    price_ok = today[\"Close\"] >= today[\"SMA50\"] * 0.995\n",
        "\n",
        "    return bool(macd_ok and obv_ok and price_ok)\n",
        "\n",
        "\n",
        "# ====== 메인 ======\n",
        "def main():\n",
        "    sigs = []\n",
        "    for t in TICKERS:\n",
        "        try:\n",
        "            df = yf.download(t, period=PERIOD, interval=\"1d\", auto_adjust=False)\n",
        "            if df.empty:\n",
        "                continue\n",
        "            ind = compute_indicators(df)\n",
        "            if ind.empty or len(ind) < 2:\n",
        "                continue\n",
        "            yest, today = ind.iloc[-2], ind.iloc[-1]\n",
        "            if is_signal(today, yest):\n",
        "                sigs.append(t)\n",
        "            time.sleep(0.2)  # API 호출 간 대기\n",
        "        except Exception as e:\n",
        "            print(f\"[ERROR] {t}: {e}\")\n",
        "\n",
        "    trade_date = dt.date.today().strftime(\"%Y-%m-%d\")\n",
        "    if sigs:\n",
        "        msg = f\"[{trade_date}] 시그널 종목: {', '.join(sigs)}\"\n",
        "    else:\n",
        "        msg = f\"[{trade_date}] 시그널 없음\"\n",
        "\n",
        "    print(msg)      # 콘솔 출력\n",
        "    notify(msg)     # 텔레그램 전송\n",
        "\n",
        "if __name__ == \"__main__\":\n",
        "    main()\n"
      ]
    },
    {
      "cell_type": "code",
      "source": [],
      "metadata": {
        "id": "YREJkI-Jp8Yc"
      },
      "execution_count": null,
      "outputs": []
    }
  ]
}